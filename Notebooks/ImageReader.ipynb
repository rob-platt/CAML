{
 "cells": [
  {
   "cell_type": "code",
   "execution_count": 8,
   "metadata": {},
   "outputs": [],
   "source": [
    "path = \"/Users/ziad/Documents/GitHub/pixel_classifier/Data/frt0001eb09_07_if164l_trr3.img\""
   ]
  },
  {
   "cell_type": "code",
   "execution_count": 9,
   "metadata": {},
   "outputs": [],
   "source": [
    "import numpy as np\n",
    "from PIL import Image\n",
    "from n2n4m.crism_image import CRISMImage\n"
   ]
  },
  {
   "cell_type": "code",
   "execution_count": 25,
   "metadata": {},
   "outputs": [
    {
     "name": "stdout",
     "output_type": "stream",
     "text": [
      "Image loaded successfully.\n"
     ]
    },
    {
     "name": "stderr",
     "output_type": "stream",
     "text": [
      "/Users/ziad/Documents/GitHub/n2n4m/n2n4m/preprocessing.py:263: RuntimeWarning: Mean of empty slice\n",
      "  image_copy = np.nan_to_num(image_copy, nan=np.nanmean(image_copy, axis=0))\n",
      "/Users/ziad/miniforge3/envs/pixel_clf_torch/lib/python3.12/site-packages/crism_ml/preprocessing.py:409: RuntimeWarning: invalid value encountered in divide\n",
      "  normed = pixspec[idx, :, :] / bland\n"
     ]
    },
    {
     "data": {
      "text/plain": [
       "(268800, 248)"
      ]
     },
     "execution_count": 25,
     "metadata": {},
     "output_type": "execute_result"
    }
   ],
   "source": [
    "from n2n4m.crism_image import CRISMImage\n",
    "# flatten and drop extra bands\n",
    "from n2n4m.n2n4m_denoise import clip_bands\n",
    "from n2n4m.preprocessing import impute_bad_values_in_image\n",
    "# image.image_array\n",
    "\n",
    "image = CRISMImage(\"/Users/ziad/Documents/GitHub/pixel_classifier/Data/frt0001eb09_07_if164l_trr3.img\")\n",
    "\n",
    "image.ratio_image(\"/Users/ziad/Documents/GitHub/pixel_classifier/Data/\")\n",
    "ratioed_im = image.ratioed_image\n",
    "im_shape = image.im_shape\n",
    "ratioed_im = ratioed_im.reshape(-1, 438) # 438 bands\n",
    "ratioed_im, _ = clip_bands(ratioed_im)\n",
    "ratioed_im = ratioed_im[:, :248] # 248 bands to use for the model\n",
    "ratioed_im, _ = impute_bad_values_in_image(ratioed_im, threshold=10)\n",
    "min_vals = np.min(ratioed_im, axis = -1, keepdims=True)\n",
    "max_vals = np.max(ratioed_im, axis = -1, keepdims=True)\n",
    "ratioed_im_scaled = (ratioed_im - min_vals) / ((max_vals - min_vals)+0.00001)\n",
    "ratioed_im_scaled.shape\n",
    "# normalise\n",
    "# ratioed_im = torch.tensor(ratioed_im.astype(np.float32))\n",
    "# min_vals = torch.min(ratioed_im, dim=-1, keepdim=True).values\n",
    "# max_vals = torch.max(ratioed_im, dim=-1, keepdim=True).values\n",
    "# ratioed_im_scaled = (ratioed_im - min_vals) / ((max_vals - min_vals)+0.00001)"
   ]
  },
  {
   "cell_type": "code",
   "execution_count": 26,
   "metadata": {},
   "outputs": [
    {
     "data": {
      "text/plain": [
       "(420, 640, 438)"
      ]
     },
     "execution_count": 26,
     "metadata": {},
     "output_type": "execute_result"
    }
   ],
   "source": [
    "image.im_shape"
   ]
  },
  {
   "cell_type": "code",
   "execution_count": null,
   "metadata": {},
   "outputs": [
    {
     "name": "stderr",
     "output_type": "stream",
     "text": [
      "/Users/ziad/Documents/GitHub/n2n4m/n2n4m/preprocessing.py:263: RuntimeWarning: Mean of empty slice\n",
      "  image_copy = np.nan_to_num(image_copy, nan=np.nanmean(image_copy, axis=0))\n",
      "/Users/ziad/miniforge3/envs/pixel_clf_torch/lib/python3.12/site-packages/crism_ml/preprocessing.py:409: RuntimeWarning: invalid value encountered in divide\n",
      "  normed = pixspec[idx, :, :] / bland\n"
     ]
    }
   ],
   "source": []
  },
  {
   "cell_type": "code",
   "execution_count": null,
   "metadata": {},
   "outputs": [],
   "source": []
  },
  {
   "cell_type": "code",
   "execution_count": 24,
   "metadata": {},
   "outputs": [
    {
     "data": {
      "text/plain": [
       "(268800, 248)"
      ]
     },
     "execution_count": 24,
     "metadata": {},
     "output_type": "execute_result"
    }
   ],
   "source": []
  },
  {
   "cell_type": "code",
   "execution_count": 15,
   "metadata": {},
   "outputs": [
    {
     "data": {
      "text/plain": [
       "<n2n4m.crism_image.CRISMImage at 0x17f90f830>"
      ]
     },
     "execution_count": 15,
     "metadata": {},
     "output_type": "execute_result"
    }
   ],
   "source": [
    "image."
   ]
  },
  {
   "cell_type": "code",
   "execution_count": null,
   "metadata": {},
   "outputs": [],
   "source": []
  }
 ],
 "metadata": {
  "kernelspec": {
   "display_name": "pixel_clf_torch",
   "language": "python",
   "name": "python3"
  },
  "language_info": {
   "codemirror_mode": {
    "name": "ipython",
    "version": 3
   },
   "file_extension": ".py",
   "mimetype": "text/x-python",
   "name": "python",
   "nbconvert_exporter": "python",
   "pygments_lexer": "ipython3",
   "version": "3.12.4"
  }
 },
 "nbformat": 4,
 "nbformat_minor": 2
}
